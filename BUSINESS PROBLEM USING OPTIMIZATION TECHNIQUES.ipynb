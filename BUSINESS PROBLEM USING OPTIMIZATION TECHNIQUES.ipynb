{
 "cells": [
  {
   "cell_type": "code",
   "execution_count": 9,
   "id": "0d19de19-caa7-4de3-a546-b66340045e72",
   "metadata": {},
   "outputs": [
    {
     "name": "stdout",
     "output_type": "stream",
     "text": [
      "    Variable  Optimal Production\n",
      "0  Product A                 0.0\n",
      "1  Product B                50.0\n",
      "Total Profit: $1500.0\n",
      "The solution is optimal and maximizes profit given the constraints.\n"
     ]
    }
   ],
   "source": [
    "import pulp\n",
    "import pandas as pd\n",
    "\n",
    "# Step 1. Define The Linear Program Problem\n",
    "prob = pulp.LpProblem(\"Production Optimization\", pulp.LpMaximize)\n",
    "\n",
    "# Step 2. Define Decision Variables\n",
    "x_A = pulp.LpVariable(\"x_A\", lowBound=0, cat='Continuous')  # Product A\n",
    "x_B = pulp.LpVariable(\"x_B\", lowBound=0, cat='Continuous')  # Product B\n",
    "\n",
    "# Step 3. Define The Objective Function (Maximize Profit)\n",
    "profit_A = 40  # Profit per unit of A\n",
    "profit_B = 30  # Profit per unit of B\n",
    "prob += profit_A * x_A + profit_B * x_B, \"Total Profit\"\n",
    "\n",
    "# Step 4. Define The Constraints\n",
    "constraints = {\n",
    "    \"Labor Hours\": (5 * x_A + 3 * x_B, \"<=\", 150),\n",
    "    \"Material\": (2 * x_A + 3 * x_B, \"<=\", 180)\n",
    "}\n",
    "\n",
    "for name, (lhs, sense, rhs) in constraints.items():\n",
    "    if sense == \"<=\":\n",
    "        prob += lhs <= rhs, name\n",
    "    elif sense == \">=\":\n",
    "        prob += lhs >= rhs, name\n",
    "    else:\n",
    "        prob += lhs == rhs, name\n",
    "\n",
    "# Step 5. Solve The Problem\n",
    "prob.solve()\n",
    "\n",
    "# Step 6. Output The Results\n",
    "results = {\n",
    "    \"Variable\": [\"Product A\", \"Product B\"],\n",
    "    \"Optimal Production\": [x_A.varValue, x_B.varValue]\n",
    "}\n",
    "results_df = pd.DataFrame(results)\n",
    "\n",
    "print(results_df)\n",
    "print(f\"Total Profit: ${pulp.value(prob.objective)}\")\n",
    "\n",
    "# Step 7. Interpret the Solution\n",
    "if pulp.LpStatus[prob.status] == 'Optimal':\n",
    "    print(\"The solution is optimal and maximizes profit given the constraints.\")\n",
    "else:\n",
    "    print(\"No optimal solution found. Consider adjusting constraints.\")\n"
   ]
  },
  {
   "cell_type": "code",
   "execution_count": null,
   "id": "9ef3c913-9698-4cab-b50c-79c23dcffe0e",
   "metadata": {},
   "outputs": [],
   "source": []
  }
 ],
 "metadata": {
  "kernelspec": {
   "display_name": "Python [conda env:base] *",
   "language": "python",
   "name": "conda-base-py"
  },
  "language_info": {
   "codemirror_mode": {
    "name": "ipython",
    "version": 3
   },
   "file_extension": ".py",
   "mimetype": "text/x-python",
   "name": "python",
   "nbconvert_exporter": "python",
   "pygments_lexer": "ipython3",
   "version": "3.12.7"
  }
 },
 "nbformat": 4,
 "nbformat_minor": 5
}
